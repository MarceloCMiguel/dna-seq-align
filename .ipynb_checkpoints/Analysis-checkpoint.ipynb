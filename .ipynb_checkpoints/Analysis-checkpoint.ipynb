{
 "cells": [
  {
   "cell_type": "markdown",
   "id": "baf0813a",
   "metadata": {},
   "source": [
    "# Problema do Alinhamento de Sequencias de DNA\n",
    "## Uma abordagem sobre o desempenho de diferentes algoritmos\n",
    "### Aluno: Marcelo Cesário Miguel"
   ]
  },
  {
   "cell_type": "markdown",
   "id": "3d19b5de",
   "metadata": {},
   "source": [
    "#### imports"
   ]
  },
  {
   "cell_type": "code",
   "execution_count": 45,
   "id": "de0c9084",
   "metadata": {},
   "outputs": [],
   "source": [
    "import subprocess\n",
    "import time\n",
    "import pandas as pd\n",
    "import matplotlib.pyplot as plt\n",
    "import numpy as np\n",
    "import seaborn as sns"
   ]
  },
  {
   "cell_type": "markdown",
   "id": "1adc3ebb",
   "metadata": {},
   "source": [
    "#### Análise com Smith Waterman e Random Local Search"
   ]
  },
  {
   "cell_type": "code",
   "execution_count": 58,
   "id": "1bd90d5f",
   "metadata": {},
   "outputs": [],
   "source": [
    "df = pd.DataFrame(columns=['Saida','Tempo','n','Algoritmo'])\n",
    "\n",
    "list_alg = {'./main' : 'Smith Waterman','./random_local_search/main' : 'Random Local Search'}\n",
    "\n",
    "def get_list_program(list_alg, n_,step):\n",
    "    list_execute=[]\n",
    "    for i in list_alg:\n",
    "        for j in np.arange(1,n_,step):\n",
    "            f = open(f'inputs_generator/in{j}.txt',\"r\")\n",
    "            contents = f.read()\n",
    "            f.close()\n",
    "            n = contents.split()[0]\n",
    "            m = contents.split()[1]\n",
    "            start = time.perf_counter()\n",
    "            proc = subprocess.run([i], input=contents, text=True, capture_output=True)\n",
    "            end = time.perf_counter()\n",
    "#             print(proc.stdout.split()[-1])\n",
    "#             print(int(proc.stdout.split()[-1]))\n",
    "#             print(str(i)+\" \"+str(j))\n",
    "#             print(\"time \"+str(float(end-start)))\n",
    "\n",
    "    #         print(lista_program[i])\n",
    "    #         print(j)\n",
    "    #             print('Saída:', proc.stdout)\n",
    "    #         print(\"value\", proc.stdout.split()[-1])\n",
    "    #         print('Stderr:', proc.stderr)\n",
    "    #         print('Tempo total(s):', end - start)\n",
    "            algoritmo = list_alg[i]\n",
    "            dic = {\n",
    "                'Tempo':float(end-start),\n",
    "                'Saida':int(proc.stdout.split()[-1]),\n",
    "                'n': int(n),\n",
    "                'm': int(m),\n",
    "                'Algoritmo': algoritmo\n",
    "            }\n",
    "            list_execute.append(dic)\n",
    "    return list_execute"
   ]
  },
  {
   "cell_type": "code",
   "execution_count": 61,
   "id": "b73dfd8c",
   "metadata": {
    "scrolled": true
   },
   "outputs": [
    {
     "name": "stdout",
     "output_type": "stream",
     "text": [
      "2\n",
      "0\n",
      "4\n",
      "2\n",
      "3\n",
      "2\n",
      "5\n",
      "4\n",
      "3\n",
      "4\n",
      "6\n",
      "5\n",
      "4\n",
      "5\n",
      "4\n",
      "4\n",
      "6\n",
      "0\n",
      "4\n",
      "4\n",
      "6\n",
      "4\n",
      "4\n",
      "7\n",
      "4\n",
      "5\n",
      "5\n",
      "5\n",
      "4\n",
      "5\n",
      "7\n",
      "5\n",
      "5\n",
      "6\n",
      "4\n",
      "2\n",
      "3\n",
      "4\n",
      "5\n",
      "3\n",
      "5\n",
      "4\n",
      "3\n",
      "5\n",
      "3\n",
      "4\n",
      "6\n",
      "7\n",
      "10\n",
      "6\n",
      "6\n",
      "2\n",
      "3\n",
      "6\n",
      "6\n",
      "5\n",
      "5\n",
      "4\n",
      "8\n",
      "5\n",
      "6\n",
      "8\n",
      "7\n",
      "7\n",
      "10\n",
      "5\n",
      "8\n",
      "6\n",
      "5\n",
      "4\n",
      "4\n",
      "2\n",
      "5\n",
      "6\n",
      "6\n",
      "4\n",
      "8\n",
      "3\n",
      "6\n",
      "6\n",
      "6\n",
      "6\n",
      "7\n",
      "6\n",
      "9\n",
      "3\n",
      "5\n",
      "7\n",
      "7\n",
      "8\n",
      "5\n",
      "7\n",
      "5\n",
      "6\n",
      "10\n",
      "7\n",
      "7\n",
      "6\n",
      "6\n",
      "7\n",
      "5\n",
      "8\n",
      "4\n",
      "6\n",
      "8\n",
      "4\n",
      "4\n",
      "6\n",
      "5\n",
      "5\n",
      "7\n",
      "5\n",
      "8\n",
      "7\n",
      "5\n",
      "5\n",
      "9\n",
      "7\n",
      "6\n",
      "4\n",
      "8\n",
      "5\n",
      "6\n",
      "8\n",
      "4\n",
      "5\n",
      "8\n",
      "8\n",
      "10\n",
      "11\n",
      "6\n",
      "8\n",
      "6\n",
      "8\n",
      "8\n",
      "7\n",
      "5\n",
      "8\n",
      "5\n",
      "5\n",
      "8\n",
      "6\n",
      "6\n",
      "6\n",
      "8\n",
      "8\n",
      "8\n",
      "12\n",
      "8\n",
      "2\n",
      "-1\n",
      "4\n",
      "2\n",
      "2\n",
      "2\n",
      "4\n",
      "4\n",
      "2\n",
      "4\n",
      "6\n",
      "5\n",
      "4\n",
      "4\n",
      "4\n",
      "4\n",
      "6\n",
      "-1\n",
      "4\n",
      "4\n",
      "6\n",
      "4\n",
      "2\n",
      "4\n",
      "2\n",
      "5\n",
      "3\n",
      "4\n",
      "4\n",
      "4\n",
      "6\n",
      "4\n",
      "4\n",
      "6\n",
      "4\n",
      "2\n",
      "3\n",
      "3\n",
      "4\n",
      "2\n",
      "4\n",
      "2\n",
      "3\n",
      "4\n",
      "2\n",
      "4\n",
      "6\n",
      "6\n",
      "10\n",
      "6\n",
      "4\n",
      "2\n",
      "2\n",
      "6\n",
      "6\n",
      "4\n",
      "4\n",
      "4\n",
      "8\n",
      "4\n",
      "6\n",
      "8\n",
      "6\n",
      "7\n",
      "6\n",
      "4\n",
      "8\n",
      "5\n",
      "5\n",
      "3\n",
      "2\n",
      "2\n",
      "4\n",
      "6\n",
      "6\n",
      "4\n",
      "7\n",
      "2\n",
      "4\n",
      "6\n",
      "6\n",
      "4\n",
      "7\n",
      "6\n",
      "5\n",
      "2\n",
      "4\n",
      "6\n",
      "4\n",
      "6\n",
      "3\n",
      "4\n",
      "4\n",
      "4\n",
      "8\n",
      "5\n",
      "3\n",
      "4\n",
      "6\n",
      "6\n",
      "5\n",
      "7\n",
      "4\n",
      "4\n",
      "6\n",
      "4\n",
      "4\n",
      "3\n",
      "4\n",
      "4\n",
      "4\n",
      "4\n",
      "4\n",
      "4\n",
      "4\n",
      "4\n",
      "6\n",
      "4\n",
      "4\n",
      "4\n",
      "8\n",
      "4\n",
      "6\n",
      "4\n",
      "4\n",
      "4\n",
      "4\n",
      "5\n",
      "4\n",
      "8\n",
      "3\n",
      "5\n",
      "4\n",
      "5\n",
      "6\n",
      "6\n",
      "4\n",
      "8\n",
      "4\n",
      "5\n",
      "8\n",
      "6\n",
      "6\n",
      "4\n",
      "4\n",
      "4\n",
      "5\n",
      "5\n",
      "7\n"
     ]
    }
   ],
   "source": [
    "# Para rodar esse comando, é necessário rodar o arquivo mysequenceGenerator.py\n",
    "# dentro da pasta inputs_generator\n",
    "list_execute = get_list_program(list_alg,150,1)\n"
   ]
  },
  {
   "cell_type": "code",
   "execution_count": null,
   "id": "600bc41f",
   "metadata": {},
   "outputs": [],
   "source": [
    "df = pd.DataFrame(list_execute)\n",
    "df= df.apply(pd.to_numeric,errors=\"ignore\")"
   ]
  },
  {
   "cell_type": "code",
   "execution_count": 48,
   "id": "c2628672",
   "metadata": {
    "scrolled": true
   },
   "outputs": [
    {
     "ename": "TypeError",
     "evalue": "no numeric data to plot",
     "output_type": "error",
     "traceback": [
      "\u001b[0;31m---------------------------------------------------------------------------\u001b[0m",
      "\u001b[0;31mTypeError\u001b[0m                                 Traceback (most recent call last)",
      "Input \u001b[0;32mIn [48]\u001b[0m, in \u001b[0;36m<cell line: 1>\u001b[0;34m()\u001b[0m\n\u001b[0;32m----> 1\u001b[0m \u001b[43mdf\u001b[49m\u001b[38;5;241;43m.\u001b[39;49m\u001b[43mpivot\u001b[49m\u001b[43m(\u001b[49m\u001b[43mindex\u001b[49m\u001b[38;5;241;43m=\u001b[39;49m\u001b[38;5;124;43m'\u001b[39;49m\u001b[38;5;124;43mn\u001b[39;49m\u001b[38;5;124;43m'\u001b[39;49m\u001b[43m,\u001b[49m\u001b[43mcolumns\u001b[49m\u001b[38;5;241;43m=\u001b[39;49m\u001b[38;5;124;43m'\u001b[39;49m\u001b[38;5;124;43mAlgoritmo\u001b[39;49m\u001b[38;5;124;43m'\u001b[39;49m\u001b[43m,\u001b[49m\u001b[43mvalues\u001b[49m\u001b[38;5;241;43m=\u001b[39;49m\u001b[38;5;124;43m'\u001b[39;49m\u001b[38;5;124;43mTempo\u001b[39;49m\u001b[38;5;124;43m'\u001b[39;49m\u001b[43m)\u001b[49m\u001b[38;5;241;43m.\u001b[39;49m\u001b[43mplot\u001b[49m\u001b[43m(\u001b[49m\u001b[43m)\u001b[49m\n\u001b[1;32m      2\u001b[0m plt\u001b[38;5;241m.\u001b[39mtitle(\u001b[38;5;124m\"\u001b[39m\u001b[38;5;124mTempo por n\u001b[39m\u001b[38;5;124m\"\u001b[39m);\n\u001b[1;32m      3\u001b[0m plt\u001b[38;5;241m.\u001b[39mylabel(\u001b[38;5;124m\"\u001b[39m\u001b[38;5;124mTempo\u001b[39m\u001b[38;5;124m\"\u001b[39m);\n",
      "File \u001b[0;32m~/.local/lib/python3.8/site-packages/pandas/plotting/_core.py:972\u001b[0m, in \u001b[0;36mPlotAccessor.__call__\u001b[0;34m(self, *args, **kwargs)\u001b[0m\n\u001b[1;32m    969\u001b[0m             label_name \u001b[38;5;241m=\u001b[39m label_kw \u001b[38;5;129;01mor\u001b[39;00m data\u001b[38;5;241m.\u001b[39mcolumns\n\u001b[1;32m    970\u001b[0m             data\u001b[38;5;241m.\u001b[39mcolumns \u001b[38;5;241m=\u001b[39m label_name\n\u001b[0;32m--> 972\u001b[0m \u001b[38;5;28;01mreturn\u001b[39;00m \u001b[43mplot_backend\u001b[49m\u001b[38;5;241;43m.\u001b[39;49m\u001b[43mplot\u001b[49m\u001b[43m(\u001b[49m\u001b[43mdata\u001b[49m\u001b[43m,\u001b[49m\u001b[43m \u001b[49m\u001b[43mkind\u001b[49m\u001b[38;5;241;43m=\u001b[39;49m\u001b[43mkind\u001b[49m\u001b[43m,\u001b[49m\u001b[43m \u001b[49m\u001b[38;5;241;43m*\u001b[39;49m\u001b[38;5;241;43m*\u001b[39;49m\u001b[43mkwargs\u001b[49m\u001b[43m)\u001b[49m\n",
      "File \u001b[0;32m~/.local/lib/python3.8/site-packages/pandas/plotting/_matplotlib/__init__.py:71\u001b[0m, in \u001b[0;36mplot\u001b[0;34m(data, kind, **kwargs)\u001b[0m\n\u001b[1;32m     69\u001b[0m         kwargs[\u001b[38;5;124m\"\u001b[39m\u001b[38;5;124max\u001b[39m\u001b[38;5;124m\"\u001b[39m] \u001b[38;5;241m=\u001b[39m \u001b[38;5;28mgetattr\u001b[39m(ax, \u001b[38;5;124m\"\u001b[39m\u001b[38;5;124mleft_ax\u001b[39m\u001b[38;5;124m\"\u001b[39m, ax)\n\u001b[1;32m     70\u001b[0m plot_obj \u001b[38;5;241m=\u001b[39m PLOT_CLASSES[kind](data, \u001b[38;5;241m*\u001b[39m\u001b[38;5;241m*\u001b[39mkwargs)\n\u001b[0;32m---> 71\u001b[0m \u001b[43mplot_obj\u001b[49m\u001b[38;5;241;43m.\u001b[39;49m\u001b[43mgenerate\u001b[49m\u001b[43m(\u001b[49m\u001b[43m)\u001b[49m\n\u001b[1;32m     72\u001b[0m plot_obj\u001b[38;5;241m.\u001b[39mdraw()\n\u001b[1;32m     73\u001b[0m \u001b[38;5;28;01mreturn\u001b[39;00m plot_obj\u001b[38;5;241m.\u001b[39mresult\n",
      "File \u001b[0;32m~/.local/lib/python3.8/site-packages/pandas/plotting/_matplotlib/core.py:327\u001b[0m, in \u001b[0;36mMPLPlot.generate\u001b[0;34m(self)\u001b[0m\n\u001b[1;32m    325\u001b[0m \u001b[38;5;28;01mdef\u001b[39;00m \u001b[38;5;21mgenerate\u001b[39m(\u001b[38;5;28mself\u001b[39m):\n\u001b[1;32m    326\u001b[0m     \u001b[38;5;28mself\u001b[39m\u001b[38;5;241m.\u001b[39m_args_adjust()\n\u001b[0;32m--> 327\u001b[0m     \u001b[38;5;28;43mself\u001b[39;49m\u001b[38;5;241;43m.\u001b[39;49m\u001b[43m_compute_plot_data\u001b[49m\u001b[43m(\u001b[49m\u001b[43m)\u001b[49m\n\u001b[1;32m    328\u001b[0m     \u001b[38;5;28mself\u001b[39m\u001b[38;5;241m.\u001b[39m_setup_subplots()\n\u001b[1;32m    329\u001b[0m     \u001b[38;5;28mself\u001b[39m\u001b[38;5;241m.\u001b[39m_make_plot()\n",
      "File \u001b[0;32m~/.local/lib/python3.8/site-packages/pandas/plotting/_matplotlib/core.py:506\u001b[0m, in \u001b[0;36mMPLPlot._compute_plot_data\u001b[0;34m(self)\u001b[0m\n\u001b[1;32m    504\u001b[0m \u001b[38;5;66;03m# no non-numeric frames or series allowed\u001b[39;00m\n\u001b[1;32m    505\u001b[0m \u001b[38;5;28;01mif\u001b[39;00m is_empty:\n\u001b[0;32m--> 506\u001b[0m     \u001b[38;5;28;01mraise\u001b[39;00m \u001b[38;5;167;01mTypeError\u001b[39;00m(\u001b[38;5;124m\"\u001b[39m\u001b[38;5;124mno numeric data to plot\u001b[39m\u001b[38;5;124m\"\u001b[39m)\n\u001b[1;32m    508\u001b[0m \u001b[38;5;28mself\u001b[39m\u001b[38;5;241m.\u001b[39mdata \u001b[38;5;241m=\u001b[39m numeric_data\u001b[38;5;241m.\u001b[39mapply(\u001b[38;5;28mself\u001b[39m\u001b[38;5;241m.\u001b[39m_convert_to_ndarray)\n",
      "\u001b[0;31mTypeError\u001b[0m: no numeric data to plot"
     ]
    }
   ],
   "source": [
    "df.pivot(index='n',columns='Algoritmo',values='Tempo').plot()\n",
    "plt.title(\"Tempo por n\");\n",
    "plt.ylabel(\"Tempo\");\n",
    "plt.grid();"
   ]
  },
  {
   "cell_type": "code",
   "execution_count": 43,
   "id": "a3cfaf09",
   "metadata": {},
   "outputs": [
    {
     "data": {
      "text/html": [
       "<div>\n",
       "<style scoped>\n",
       "    .dataframe tbody tr th:only-of-type {\n",
       "        vertical-align: middle;\n",
       "    }\n",
       "\n",
       "    .dataframe tbody tr th {\n",
       "        vertical-align: top;\n",
       "    }\n",
       "\n",
       "    .dataframe thead tr th {\n",
       "        text-align: left;\n",
       "    }\n",
       "\n",
       "    .dataframe thead tr:last-of-type th {\n",
       "        text-align: right;\n",
       "    }\n",
       "</style>\n",
       "<table border=\"1\" class=\"dataframe\">\n",
       "  <thead>\n",
       "    <tr>\n",
       "      <th></th>\n",
       "      <th colspan=\"2\" halign=\"left\">Tempo</th>\n",
       "      <th colspan=\"2\" halign=\"left\">m</th>\n",
       "    </tr>\n",
       "    <tr>\n",
       "      <th>Algoritmo</th>\n",
       "      <th>Random Local Search</th>\n",
       "      <th>Smith Waterman</th>\n",
       "      <th>Random Local Search</th>\n",
       "      <th>Smith Waterman</th>\n",
       "    </tr>\n",
       "    <tr>\n",
       "      <th>n</th>\n",
       "      <th></th>\n",
       "      <th></th>\n",
       "      <th></th>\n",
       "      <th></th>\n",
       "    </tr>\n",
       "  </thead>\n",
       "  <tbody>\n",
       "    <tr>\n",
       "      <th>4</th>\n",
       "      <td>0.016390</td>\n",
       "      <td>0.012521</td>\n",
       "      <td>4.0</td>\n",
       "      <td>4.0</td>\n",
       "    </tr>\n",
       "    <tr>\n",
       "      <th>5</th>\n",
       "      <td>0.016062</td>\n",
       "      <td>0.033619</td>\n",
       "      <td>5.0</td>\n",
       "      <td>5.0</td>\n",
       "    </tr>\n",
       "    <tr>\n",
       "      <th>6</th>\n",
       "      <td>0.015253</td>\n",
       "      <td>0.034022</td>\n",
       "      <td>6.0</td>\n",
       "      <td>6.0</td>\n",
       "    </tr>\n",
       "    <tr>\n",
       "      <th>7</th>\n",
       "      <td>0.016514</td>\n",
       "      <td>0.034048</td>\n",
       "      <td>7.0</td>\n",
       "      <td>7.0</td>\n",
       "    </tr>\n",
       "    <tr>\n",
       "      <th>8</th>\n",
       "      <td>0.015725</td>\n",
       "      <td>0.033095</td>\n",
       "      <td>8.0</td>\n",
       "      <td>8.0</td>\n",
       "    </tr>\n",
       "    <tr>\n",
       "      <th>...</th>\n",
       "      <td>...</td>\n",
       "      <td>...</td>\n",
       "      <td>...</td>\n",
       "      <td>...</td>\n",
       "    </tr>\n",
       "    <tr>\n",
       "      <th>748</th>\n",
       "      <td>0.352655</td>\n",
       "      <td>0.116007</td>\n",
       "      <td>748.0</td>\n",
       "      <td>748.0</td>\n",
       "    </tr>\n",
       "    <tr>\n",
       "      <th>749</th>\n",
       "      <td>0.342798</td>\n",
       "      <td>0.123079</td>\n",
       "      <td>749.0</td>\n",
       "      <td>749.0</td>\n",
       "    </tr>\n",
       "    <tr>\n",
       "      <th>750</th>\n",
       "      <td>0.367157</td>\n",
       "      <td>0.120150</td>\n",
       "      <td>750.0</td>\n",
       "      <td>750.0</td>\n",
       "    </tr>\n",
       "    <tr>\n",
       "      <th>751</th>\n",
       "      <td>0.348798</td>\n",
       "      <td>0.120926</td>\n",
       "      <td>751.0</td>\n",
       "      <td>751.0</td>\n",
       "    </tr>\n",
       "    <tr>\n",
       "      <th>752</th>\n",
       "      <td>0.351252</td>\n",
       "      <td>0.120109</td>\n",
       "      <td>752.0</td>\n",
       "      <td>752.0</td>\n",
       "    </tr>\n",
       "  </tbody>\n",
       "</table>\n",
       "<p>749 rows × 4 columns</p>\n",
       "</div>"
      ],
      "text/plain": [
       "                        Tempo                                  m  \\\n",
       "Algoritmo Random Local Search Smith Waterman Random Local Search   \n",
       "n                                                                  \n",
       "4                    0.016390       0.012521                 4.0   \n",
       "5                    0.016062       0.033619                 5.0   \n",
       "6                    0.015253       0.034022                 6.0   \n",
       "7                    0.016514       0.034048                 7.0   \n",
       "8                    0.015725       0.033095                 8.0   \n",
       "..                        ...            ...                 ...   \n",
       "748                  0.352655       0.116007               748.0   \n",
       "749                  0.342798       0.123079               749.0   \n",
       "750                  0.367157       0.120150               750.0   \n",
       "751                  0.348798       0.120926               751.0   \n",
       "752                  0.351252       0.120109               752.0   \n",
       "\n",
       "                          \n",
       "Algoritmo Smith Waterman  \n",
       "n                         \n",
       "4                    4.0  \n",
       "5                    5.0  \n",
       "6                    6.0  \n",
       "7                    7.0  \n",
       "8                    8.0  \n",
       "..                   ...  \n",
       "748                748.0  \n",
       "749                749.0  \n",
       "750                750.0  \n",
       "751                751.0  \n",
       "752                752.0  \n",
       "\n",
       "[749 rows x 4 columns]"
      ]
     },
     "execution_count": 43,
     "metadata": {},
     "output_type": "execute_result"
    }
   ],
   "source": [
    "df_teste = df.pivot(index=['n'],columns='Algoritmo',values=['Tempo','m'])\n",
    "df_teste"
   ]
  },
  {
   "cell_type": "code",
   "execution_count": 44,
   "id": "7e551350",
   "metadata": {},
   "outputs": [
    {
     "data": {
      "image/png": "[encoded data removed]",
      "text/plain": [
       "<Figure size 432x288 with 1 Axes>"
      ]
     },
     "metadata": {
      "needs_background": "light"
     },
     "output_type": "display_data"
    }
   ],
   "source": [
    "fig = plt.figure()\n",
    "ax = fig.add_subplot(111, projection='3d')\n",
    "sc = ax.scatter(df_teste['Tempo']['Random Local Search'], df_teste['m']['Random Local Search'], df_teste['Tempo']['Random Local Search'], s=100)"
   ]
  },
  {
   "cell_type": "code",
   "execution_count": 36,
   "id": "da96a75c",
   "metadata": {},
   "outputs": [
    {
     "data": {
      "text/plain": [
       "n\n",
       "4      0.036938\n",
       "14     0.012999\n",
       "24     0.008764\n",
       "34     0.007225\n",
       "44     0.007018\n",
       "         ...   \n",
       "704    0.147595\n",
       "714    0.266517\n",
       "724    0.282849\n",
       "734    0.337222\n",
       "744    0.301777\n",
       "Name: Random Local Search, Length: 75, dtype: float64"
      ]
     },
     "execution_count": 36,
     "metadata": {},
     "output_type": "execute_result"
    }
   ],
   "source": [
    "df_teste['Tempo']['Random Local Search']"
   ]
  },
  {
   "cell_type": "code",
   "execution_count": 37,
   "id": "9be93771",
   "metadata": {},
   "outputs": [
    {
     "data": {
      "text/plain": [
       "n\n",
       "4        4.0\n",
       "14      14.0\n",
       "24      24.0\n",
       "34      34.0\n",
       "44      44.0\n",
       "       ...  \n",
       "704    704.0\n",
       "714    714.0\n",
       "724    724.0\n",
       "734    734.0\n",
       "744    744.0\n",
       "Name: Random Local Search, Length: 75, dtype: float64"
      ]
     },
     "execution_count": 37,
     "metadata": {},
     "output_type": "execute_result"
    }
   ],
   "source": [
    "df_teste['m']['Random Local Search']"
   ]
  },
  {
   "cell_type": "markdown",
   "id": "d7039861",
   "metadata": {},
   "source": [
    "### Alterando o tempo do Random Local Search\n",
    "Como o algoritmo de busca local do código Random Local Search é repetido 100 vezes para cada 'n', será dividido em 100 o tempo do Random Local Search para calcularmos apenas o tempo do algoritmo de busca local"
   ]
  },
  {
   "cell_type": "code",
   "execution_count": 6,
   "id": "cf1bca1b",
   "metadata": {},
   "outputs": [],
   "source": [
    "df.loc[df['Algoritmo'] == 'Random Local Search','Tempo'] /=100"
   ]
  },
  {
   "cell_type": "code",
   "execution_count": 7,
   "id": "7239d8fe",
   "metadata": {},
   "outputs": [
    {
     "data": {
      "image/png": "[encoded data removed]",
      "text/plain": [
       "<Figure size 432x288 with 1 Axes>"
      ]
     },
     "metadata": {
      "needs_background": "light"
     },
     "output_type": "display_data"
    }
   ],
   "source": [
    "df.pivot(index='n',columns='Algoritmo',values='Tempo').plot()\n",
    "plt.title(\"Tempo por n\");\n",
    "plt.ylabel(\"Tempo\");\n",
    "plt.grid();"
   ]
  },
  {
   "cell_type": "code",
   "execution_count": 8,
   "id": "442324ab",
   "metadata": {
    "scrolled": false
   },
   "outputs": [
    {
     "data": {
      "image/png": "[encoded data removed]",
      "text/plain": [
       "<Figure size 432x288 with 1 Axes>"
      ]
     },
     "metadata": {
      "needs_background": "light"
     },
     "output_type": "display_data"
    }
   ],
   "source": [
    "df.pivot(index='n',columns='Algoritmo',values='Saida').plot()\n",
    "plt.title(\"Score por n\");\n",
    "plt.grid()\n",
    "plt.ylabel(\"Score\");\n",
    "\n",
    "\n"
   ]
  },
  {
   "cell_type": "code",
   "execution_count": 9,
   "id": "f6c045a4",
   "metadata": {},
   "outputs": [
    {
     "data": {
      "image/png": "[encoded data removed]",
      "text/plain": [
       "<Figure size 432x288 with 1 Axes>"
      ]
     },
     "metadata": {
      "needs_background": "light"
     },
     "output_type": "display_data"
    },
    {
     "data": {
      "image/png": "[encoded data removed]",
      "text/plain": [
       "<Figure size 432x288 with 1 Axes>"
      ]
     },
     "metadata": {
      "needs_background": "light"
     },
     "output_type": "display_data"
    }
   ],
   "source": [
    "df.pivot(index='n',columns='Algoritmo',values='Saida')['Smith Waterman'].plot();\n",
    "plt.title(\"Smith Waterman\")\n",
    "plt.grid()\n",
    "plt.ylabel(\"Score\");\n",
    "plt.show()\n",
    "df.pivot(index='n',columns='Algoritmo',values='Saida')['Random Local Search'].plot();\n",
    "plt.title(\"Random Local Search\")\n",
    "plt.grid()\n",
    "plt.ylabel(\"Score\");\n",
    "plt.show()"
   ]
  },
  {
   "cell_type": "markdown",
   "id": "f4792e52",
   "metadata": {},
   "source": [
    "### Adicionando Exaustive Search"
   ]
  },
  {
   "cell_type": "code",
   "execution_count": 10,
   "id": "d16b10c3",
   "metadata": {},
   "outputs": [],
   "source": [
    "list_alg_exaust = {'./main' : 'Smith Waterman',\n",
    "                   './random_local_search/main' : 'Random Local Search',\n",
    "                   './exaustive_search/main':'Exaustive Search'}"
   ]
  },
  {
   "cell_type": "code",
   "execution_count": 18,
   "id": "f394ced0",
   "metadata": {},
   "outputs": [
    {
     "name": "stdout",
     "output_type": "stream",
     "text": [
      "Esse código pode demorar alguns minutos\n"
     ]
    }
   ],
   "source": [
    "print(\"Esse código pode demorar alguns minutos\")\n",
    "list_execute = get_list_program(list_alg_exaust,300,10)"
   ]
  },
  {
   "cell_type": "code",
   "execution_count": 19,
   "id": "27b76d80",
   "metadata": {},
   "outputs": [],
   "source": [
    "df = pd.DataFrame(list_execute)\n",
    "df= df.apply(pd.to_numeric,errors=\"ignore\")"
   ]
  },
  {
   "cell_type": "code",
   "execution_count": 20,
   "id": "ec4fa9b2",
   "metadata": {},
   "outputs": [],
   "source": [
    "df.loc[df['Algoritmo'] == 'Random Local Search','Tempo'] /=100"
   ]
  },
  {
   "cell_type": "code",
   "execution_count": 21,
   "id": "77e4d509",
   "metadata": {},
   "outputs": [
    {
     "data": {
      "image/png": "[encoded data removed]",
      "text/plain": [
       "<Figure size 432x288 with 1 Axes>"
      ]
     },
     "metadata": {
      "needs_background": "light"
     },
     "output_type": "display_data"
    }
   ],
   "source": [
    "df.pivot(index='n',columns='Algoritmo',values='Tempo').plot()\n",
    "plt.title(\"Tempo por n\");\n",
    "plt.ylabel(\"Tempo\");\n",
    "plt.grid();"
   ]
  },
  {
   "cell_type": "code",
   "execution_count": 22,
   "id": "ae32b744",
   "metadata": {},
   "outputs": [
    {
     "data": {
      "image/png": "[encoded data removed]",
      "text/plain": [
       "<Figure size 432x288 with 1 Axes>"
      ]
     },
     "metadata": {
      "needs_background": "light"
     },
     "output_type": "display_data"
    }
   ],
   "source": [
    "df.pivot(index='n',columns='Algoritmo',values='Saida').plot()\n",
    "plt.title(\"Score por n\");\n",
    "plt.grid()\n",
    "plt.ylabel(\"Score\");"
   ]
  },
  {
   "cell_type": "markdown",
   "id": "21c8ad75",
   "metadata": {},
   "source": [
    "### Analisando variações no tempo do algoritmo smith"
   ]
  },
  {
   "cell_type": "code",
   "execution_count": 16,
   "id": "84c9f5da",
   "metadata": {},
   "outputs": [],
   "source": [
    "def plot_corr(x_,y_,title):\n",
    "    sns.regplot(x_,y_, color=('#a29bec'))\n",
    "    plt.title(title)\n",
    "    plt.grid(True)\n",
    "    plt.show()"
   ]
  },
  {
   "cell_type": "code",
   "execution_count": 17,
   "id": "6da8f0a9",
   "metadata": {
    "scrolled": true
   },
   "outputs": [
    {
     "ename": "TypeError",
     "evalue": "no numeric data to plot",
     "output_type": "error",
     "traceback": [
      "\u001b[0;31m---------------------------------------------------------------------------\u001b[0m",
      "\u001b[0;31mTypeError\u001b[0m                                 Traceback (most recent call last)",
      "Input \u001b[0;32mIn [17]\u001b[0m, in \u001b[0;36m<cell line: 3>\u001b[0;34m()\u001b[0m\n\u001b[1;32m      1\u001b[0m df_teste \u001b[38;5;241m=\u001b[39m df\u001b[38;5;241m.\u001b[39mloc[(df[\u001b[38;5;124m'\u001b[39m\u001b[38;5;124mn\u001b[39m\u001b[38;5;124m'\u001b[39m]\u001b[38;5;241m<\u001b[39m\u001b[38;5;241m500\u001b[39m) \u001b[38;5;241m&\u001b[39m (df[\u001b[38;5;124m'\u001b[39m\u001b[38;5;124mAlgoritmo\u001b[39m\u001b[38;5;124m'\u001b[39m]\u001b[38;5;241m==\u001b[39m \u001b[38;5;124m'\u001b[39m\u001b[38;5;124mSmith\u001b[39m\u001b[38;5;124m'\u001b[39m) \u001b[38;5;241m&\u001b[39m (df[\u001b[38;5;124m'\u001b[39m\u001b[38;5;124mn\u001b[39m\u001b[38;5;124m'\u001b[39m]\u001b[38;5;241m%\u001b[39m\u001b[38;5;241m10\u001b[39m \u001b[38;5;241m==\u001b[39m \u001b[38;5;241m0\u001b[39m) ]\n\u001b[0;32m----> 3\u001b[0m \u001b[43mdf_teste\u001b[49m\u001b[38;5;241;43m.\u001b[39;49m\u001b[43mpivot\u001b[49m\u001b[43m(\u001b[49m\u001b[43mindex\u001b[49m\u001b[38;5;241;43m=\u001b[39;49m\u001b[38;5;124;43m'\u001b[39;49m\u001b[38;5;124;43mn\u001b[39;49m\u001b[38;5;124;43m'\u001b[39;49m\u001b[43m,\u001b[49m\u001b[43mcolumns\u001b[49m\u001b[38;5;241;43m=\u001b[39;49m\u001b[38;5;124;43m'\u001b[39;49m\u001b[38;5;124;43mAlgoritmo\u001b[39;49m\u001b[38;5;124;43m'\u001b[39;49m\u001b[43m,\u001b[49m\u001b[43mvalues\u001b[49m\u001b[38;5;241;43m=\u001b[39;49m\u001b[38;5;124;43m'\u001b[39;49m\u001b[38;5;124;43mTempo\u001b[39;49m\u001b[38;5;124;43m'\u001b[39;49m\u001b[43m)\u001b[49m\u001b[38;5;241;43m.\u001b[39;49m\u001b[43mplot\u001b[49m\u001b[43m(\u001b[49m\u001b[43m)\u001b[49m\n\u001b[1;32m      4\u001b[0m plt\u001b[38;5;241m.\u001b[39mtitle(\u001b[38;5;124m\"\u001b[39m\u001b[38;5;124mScore por n\u001b[39m\u001b[38;5;124m\"\u001b[39m);\n\u001b[1;32m      5\u001b[0m plt\u001b[38;5;241m.\u001b[39mgrid()\n",
      "File \u001b[0;32m~/.local/lib/python3.8/site-packages/pandas/plotting/_core.py:972\u001b[0m, in \u001b[0;36mPlotAccessor.__call__\u001b[0;34m(self, *args, **kwargs)\u001b[0m\n\u001b[1;32m    969\u001b[0m             label_name \u001b[38;5;241m=\u001b[39m label_kw \u001b[38;5;129;01mor\u001b[39;00m data\u001b[38;5;241m.\u001b[39mcolumns\n\u001b[1;32m    970\u001b[0m             data\u001b[38;5;241m.\u001b[39mcolumns \u001b[38;5;241m=\u001b[39m label_name\n\u001b[0;32m--> 972\u001b[0m \u001b[38;5;28;01mreturn\u001b[39;00m \u001b[43mplot_backend\u001b[49m\u001b[38;5;241;43m.\u001b[39;49m\u001b[43mplot\u001b[49m\u001b[43m(\u001b[49m\u001b[43mdata\u001b[49m\u001b[43m,\u001b[49m\u001b[43m \u001b[49m\u001b[43mkind\u001b[49m\u001b[38;5;241;43m=\u001b[39;49m\u001b[43mkind\u001b[49m\u001b[43m,\u001b[49m\u001b[43m \u001b[49m\u001b[38;5;241;43m*\u001b[39;49m\u001b[38;5;241;43m*\u001b[39;49m\u001b[43mkwargs\u001b[49m\u001b[43m)\u001b[49m\n",
      "File \u001b[0;32m~/.local/lib/python3.8/site-packages/pandas/plotting/_matplotlib/__init__.py:71\u001b[0m, in \u001b[0;36mplot\u001b[0;34m(data, kind, **kwargs)\u001b[0m\n\u001b[1;32m     69\u001b[0m         kwargs[\u001b[38;5;124m\"\u001b[39m\u001b[38;5;124max\u001b[39m\u001b[38;5;124m\"\u001b[39m] \u001b[38;5;241m=\u001b[39m \u001b[38;5;28mgetattr\u001b[39m(ax, \u001b[38;5;124m\"\u001b[39m\u001b[38;5;124mleft_ax\u001b[39m\u001b[38;5;124m\"\u001b[39m, ax)\n\u001b[1;32m     70\u001b[0m plot_obj \u001b[38;5;241m=\u001b[39m PLOT_CLASSES[kind](data, \u001b[38;5;241m*\u001b[39m\u001b[38;5;241m*\u001b[39mkwargs)\n\u001b[0;32m---> 71\u001b[0m \u001b[43mplot_obj\u001b[49m\u001b[38;5;241;43m.\u001b[39;49m\u001b[43mgenerate\u001b[49m\u001b[43m(\u001b[49m\u001b[43m)\u001b[49m\n\u001b[1;32m     72\u001b[0m plot_obj\u001b[38;5;241m.\u001b[39mdraw()\n\u001b[1;32m     73\u001b[0m \u001b[38;5;28;01mreturn\u001b[39;00m plot_obj\u001b[38;5;241m.\u001b[39mresult\n",
      "File \u001b[0;32m~/.local/lib/python3.8/site-packages/pandas/plotting/_matplotlib/core.py:327\u001b[0m, in \u001b[0;36mMPLPlot.generate\u001b[0;34m(self)\u001b[0m\n\u001b[1;32m    325\u001b[0m \u001b[38;5;28;01mdef\u001b[39;00m \u001b[38;5;21mgenerate\u001b[39m(\u001b[38;5;28mself\u001b[39m):\n\u001b[1;32m    326\u001b[0m     \u001b[38;5;28mself\u001b[39m\u001b[38;5;241m.\u001b[39m_args_adjust()\n\u001b[0;32m--> 327\u001b[0m     \u001b[38;5;28;43mself\u001b[39;49m\u001b[38;5;241;43m.\u001b[39;49m\u001b[43m_compute_plot_data\u001b[49m\u001b[43m(\u001b[49m\u001b[43m)\u001b[49m\n\u001b[1;32m    328\u001b[0m     \u001b[38;5;28mself\u001b[39m\u001b[38;5;241m.\u001b[39m_setup_subplots()\n\u001b[1;32m    329\u001b[0m     \u001b[38;5;28mself\u001b[39m\u001b[38;5;241m.\u001b[39m_make_plot()\n",
      "File \u001b[0;32m~/.local/lib/python3.8/site-packages/pandas/plotting/_matplotlib/core.py:506\u001b[0m, in \u001b[0;36mMPLPlot._compute_plot_data\u001b[0;34m(self)\u001b[0m\n\u001b[1;32m    504\u001b[0m \u001b[38;5;66;03m# no non-numeric frames or series allowed\u001b[39;00m\n\u001b[1;32m    505\u001b[0m \u001b[38;5;28;01mif\u001b[39;00m is_empty:\n\u001b[0;32m--> 506\u001b[0m     \u001b[38;5;28;01mraise\u001b[39;00m \u001b[38;5;167;01mTypeError\u001b[39;00m(\u001b[38;5;124m\"\u001b[39m\u001b[38;5;124mno numeric data to plot\u001b[39m\u001b[38;5;124m\"\u001b[39m)\n\u001b[1;32m    508\u001b[0m \u001b[38;5;28mself\u001b[39m\u001b[38;5;241m.\u001b[39mdata \u001b[38;5;241m=\u001b[39m numeric_data\u001b[38;5;241m.\u001b[39mapply(\u001b[38;5;28mself\u001b[39m\u001b[38;5;241m.\u001b[39m_convert_to_ndarray)\n",
      "\u001b[0;31mTypeError\u001b[0m: no numeric data to plot"
     ]
    }
   ],
   "source": [
    "df_teste = df.loc[(df['n']<500) & (df['Algoritmo']== 'Smith') & (df['n']%10 == 0) ]\n",
    "\n",
    "df_teste.pivot(index='n',columns='Algoritmo',values='Tempo').plot()\n",
    "plt.title(\"Score por n\");\n",
    "plt.grid()\n",
    "plt.ylabel(\"Tempo\");\n",
    "for i in np.arange(0,len(df_teste),1):\n",
    "    plt.annotate(str(df_teste.iloc[i][\"Saida\"]),xy=(df_teste.iloc[i][\"n\"],df_teste.iloc[i][\"Tempo\"]))"
   ]
  },
  {
   "cell_type": "markdown",
   "id": "ab397290",
   "metadata": {},
   "source": [
    "### Correlação da diferença |n-m| e o tempo"
   ]
  },
  {
   "cell_type": "code",
   "execution_count": null,
   "id": "35e6b843",
   "metadata": {},
   "outputs": [],
   "source": [
    "df['|n-m|'] = ((df['n'] - df['m'])**2)**(1/2)"
   ]
  },
  {
   "cell_type": "code",
   "execution_count": null,
   "id": "7d1a8ded",
   "metadata": {
    "scrolled": true
   },
   "outputs": [],
   "source": [
    "df['|n-m|']"
   ]
  },
  {
   "cell_type": "code",
   "execution_count": null,
   "id": "798ec828",
   "metadata": {},
   "outputs": [],
   "source": [
    "df_smith = df.loc[df['Algoritmo']=='Smith']\n",
    "plot_corr(df_smith['|n-m|'],df_smith['Tempo'],\"Correlação |n-m| por Tempo\")"
   ]
  },
  {
   "cell_type": "code",
   "execution_count": null,
   "id": "4b640fb0",
   "metadata": {},
   "outputs": [],
   "source": [
    "df_smith['Tempo'].corr(df_smith['|n-m|'])"
   ]
  },
  {
   "cell_type": "code",
   "execution_count": null,
   "id": "4be5b0d9",
   "metadata": {},
   "outputs": [],
   "source": []
  },
  {
   "cell_type": "code",
   "execution_count": null,
   "id": "92f85d74",
   "metadata": {},
   "outputs": [],
   "source": []
  }
 ],
 "metadata": {
  "kernelspec": {
   "display_name": "Python 3 (ipykernel)",
   "language": "python",
   "name": "python3"
  },
  "language_info": {
   "codemirror_mode": {
    "name": "ipython",
    "version": 3
   },
   "file_extension": ".py",
   "mimetype": "text/x-python",
   "name": "python",
   "nbconvert_exporter": "python",
   "pygments_lexer": "ipython3",
   "version": "3.8.10"
  }
 },
 "nbformat": 4,
 "nbformat_minor": 5
}
